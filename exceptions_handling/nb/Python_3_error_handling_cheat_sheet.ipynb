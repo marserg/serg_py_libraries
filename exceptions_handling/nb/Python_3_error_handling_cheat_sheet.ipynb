{
 "cells": [
  {
   "cell_type": "markdown",
   "metadata": {
    "deletable": true,
    "editable": true
   },
   "source": [
    "*Cheat sheets assume you know what you are doing and only need a quick reference. If you don't understand something, read a tutorial instead.*\n",
    "\n",
    "# Python 3 error handling cheat sheet - sept 2018\n",
    "\n",
    "## References\n",
    "\n",
    "- Download this cheat sheet on http://encyclopython.com/pages/error-handling-cheat-sheet.html\n",
    "- Python official doc tutorial on exceptions: https://docs.python.org/3/tutorial/errors.html\n",
    "- Python official doc exception reference: https://docs.python.org/3/library/exceptions.html \n",
    "\n",
    "## Handling\n",
    "\n",
    "### Typical case"
   ]
  },
  {
   "cell_type": "code",
   "execution_count": 36,
   "metadata": {
    "collapsed": false,
    "deletable": true,
    "editable": true
   },
   "outputs": [
    {
     "name": "stdout",
     "output_type": "stream",
     "text": [
      "Something failed\n",
      "Something failed\n",
      "Something failed\n",
      "Something failed\n"
     ]
    }
   ],
   "source": [
    "try:\n",
    "    1 / 0  # Operation that can fail\n",
    "except ZeroDivisionError: # React specifically to this error\n",
    "    print('Something failed')\n",
    "\n",
    "# DO NOT use a \"catch-all\" like:\n",
    "\n",
    "try:\n",
    "    1 / 0  \n",
    "except Exception: \n",
    "    print('Something failed')\n",
    "    \n",
    "# or:\n",
    "\n",
    "try:\n",
    "    1 / 0  \n",
    "except BaseException: \n",
    "    print('Something failed')\n",
    "    \n",
    "# or:\n",
    "\n",
    "try:\n",
    "    1 / 0  \n",
    "except: \n",
    "    print('Something failed')\n",
    "    \n",
    "# Unless you really, REALLY know what you are doing. Those will make debugging much harder."
   ]
  },
  {
   "cell_type": "markdown",
   "metadata": {
    "deletable": true,
    "editable": true
   },
   "source": [
    "### More complex logic"
   ]
  },
  {
   "cell_type": "code",
   "execution_count": 37,
   "metadata": {
    "collapsed": false,
    "deletable": true,
    "editable": true
   },
   "outputs": [
    {
     "name": "stdout",
     "output_type": "stream",
     "text": [
      "Something failed: division by zero\n",
      "Good bye\n"
     ]
    }
   ],
   "source": [
    "import random\n",
    "\n",
    "try:\n",
    "    # This code can fail in many ways\n",
    "    res = str(1 / random.choice([1, \"1\", 0]))\n",
    "    print(float(random.choice([res, 'a'])))\n",
    "    \n",
    "except ZeroDivisionError as e:  # You can capture the exception in a variable\n",
    "    print('Something failed:', e)\n",
    "\n",
    "# You can use several \"except\" blocks\n",
    "except (TypeError, ValueError):  # You can capture several exceptions at once\n",
    "    print('Something else failed')\n",
    "    \n",
    "else:  # You can execute code if there is NO error\n",
    "    print(\"It's all good\")\n",
    "    \n",
    "finally:  # This will be executed in all cases, error or not\n",
    "    print(\"Good bye\")"
   ]
  },
  {
   "cell_type": "markdown",
   "metadata": {
    "deletable": true,
    "editable": true
   },
   "source": [
    "## Using exceptions yourself"
   ]
  },
  {
   "cell_type": "code",
   "execution_count": 137,
   "metadata": {
    "collapsed": false,
    "deletable": true,
    "editable": true
   },
   "outputs": [
    {
     "ename": "ValueError",
     "evalue": "You can use any standard exception in your code",
     "output_type": "error",
     "traceback": [
      "Traceback \u001b[0;36m(most recent call last)\u001b[0m:\n",
      "\u001b[0;36m  File \u001b[0;32m\"<ipython-input-137-07c6eae0bc46>\"\u001b[0;36m, line \u001b[0;32m1\u001b[0;36m, in \u001b[0;35m<module>\u001b[0;36m\u001b[0m\n\u001b[0;31m    raise ValueError('You can use any standard exception in your code')\u001b[0m\n",
      "\u001b[0;31mValueError\u001b[0m\u001b[0;31m:\u001b[0m You can use any standard exception in your code\n"
     ]
    }
   ],
   "source": [
    "raise ValueError('You can use any standard exception in your code')"
   ]
  },
  {
   "cell_type": "markdown",
   "metadata": {
    "deletable": true,
    "editable": true
   },
   "source": [
    "### Use\n",
    "\n",
    "- **ValueError** when there is not obvious way of dealing with a value. E.G: trying to convert a sound into a color.\n",
    "- **TypeError** when the value is of the wrong type. E.G: trying to get a color from a sound.\n",
    "- **RuntimeError** when the configuration prevent your from going any further. E.G: an key resource is missing.\n",
    "- **NotImplementedError** when part of the code is missing, either because you haven't coded it, can't code it or require the user to code it. E.G: a parent class delegate a method implementation to its children.\n",
    "- **TimeoutError** when an operation is taking too much time. E.G: the serveur is not responding. \n",
    "- **LookupError** when a search failed. E.G: trying to get a car from a wrong brand.\n",
    "\n",
    "### You can and should create your own exceptions"
   ]
  },
  {
   "cell_type": "code",
   "execution_count": 39,
   "metadata": {
    "collapsed": false,
    "deletable": true,
    "editable": true
   },
   "outputs": [
    {
     "ename": "ExceptionWithParamsError",
     "evalue": "2017-03-31 14:20:58.607556: Custom error !",
     "output_type": "error",
     "traceback": [
      "Traceback \u001b[0;36m(most recent call last)\u001b[0m:\n",
      "\u001b[0;36m  File \u001b[0;32m\"<ipython-input-39-d9dd630225c7>\"\u001b[0;36m, line \u001b[0;32m22\u001b[0;36m, in \u001b[0;35m<module>\u001b[0;36m\u001b[0m\n\u001b[0;31m    raise ExceptionWithParamsError('Custom error !')\u001b[0m\n",
      "\u001b[0;31mExceptionWithParamsError\u001b[0m\u001b[0;31m:\u001b[0m 2017-03-31 14:20:58.607556: Custom error !\n"
     ]
    }
   ],
   "source": [
    "import datetime\n",
    "\n",
    "# It's a good idea to have a hierarchy in your exceptions\n",
    "class YourBaseError(Exception): \n",
    "    pass\n",
    "\n",
    "# This can be dealt with \"except\" on YourPreciseError or YourBaseError\n",
    "class YourPreciseError(YourBaseError): \n",
    "    pass\n",
    "\n",
    "# This can be dealt with \"except\" on YourCustomValueError, ValueError or YourBaseError\n",
    "class YourCustomValueError(ValueError, YourBaseError): \n",
    "    pass\n",
    "\n",
    "# Exceptions are regular classes, you can make them do anything\n",
    "class ExceptionWithParamsError(YourBaseError): \n",
    "    def __init__(self, msg):\n",
    "        msg = \"{}: {}\".format(datetime.datetime.now(), msg)\n",
    "        super().__init__(msg)\n",
    "\n",
    "# You can then raise any of those 4 exceptions\n",
    "raise ExceptionWithParamsError('Custom error !')"
   ]
  },
  {
   "cell_type": "markdown",
   "metadata": {
    "deletable": true,
    "editable": true
   },
   "source": [
    "## Intercepting exceptions then letting it crash\n",
    "\n",
    "### Reraise the original exception"
   ]
  },
  {
   "cell_type": "code",
   "execution_count": 4,
   "metadata": {
    "collapsed": false,
    "deletable": true,
    "editable": true
   },
   "outputs": [
    {
     "name": "stdout",
     "output_type": "stream",
     "text": [
      "Something failed\n"
     ]
    },
    {
     "ename": "ZeroDivisionError",
     "evalue": "division by zero",
     "output_type": "error",
     "traceback": [
      "Traceback \u001b[0;36m(most recent call last)\u001b[0m:\n",
      "\u001b[0;36m  File \u001b[0;32m\"<ipython-input-4-0da52efb6151>\"\u001b[0;36m, line \u001b[0;32m2\u001b[0;36m, in \u001b[0;35m<module>\u001b[0;36m\u001b[0m\n\u001b[0;31m    1 / 0\u001b[0m\n",
      "\u001b[0;31mZeroDivisionError\u001b[0m\u001b[0;31m:\u001b[0m division by zero\n"
     ]
    }
   ],
   "source": [
    "try:\n",
    "    1 / 0\n",
    "except ZeroDivisionError:\n",
    "    print('Something failed')\n",
    "    raise  # An empty \"raise\" will raise the original ZeroDivisionError"
   ]
  },
  {
   "cell_type": "markdown",
   "metadata": {
    "deletable": true,
    "editable": true
   },
   "source": [
    "### Raise a new exception but keep the original context"
   ]
  },
  {
   "cell_type": "code",
   "execution_count": 171,
   "metadata": {
    "collapsed": false,
    "deletable": true,
    "editable": true
   },
   "outputs": [
    {
     "ename": "CustomException",
     "evalue": "This crashed because of this and that",
     "output_type": "error",
     "traceback": [
      "Traceback \u001b[0;36m(most recent call last)\u001b[0m:\n",
      "\u001b[0;36m  File \u001b[0;32m\"<ipython-input-171-7332353a141f>\"\u001b[0;36m, line \u001b[0;32m8\u001b[0;36m, in \u001b[0;35m<module>\u001b[0;36m\u001b[0m\n\u001b[0;31m    raise CustomException(\"This crashed because of this and that\") from e\u001b[0m\n",
      "\u001b[0;31mCustomException\u001b[0m\u001b[0;31m:\u001b[0m This crashed because of this and that\n"
     ]
    }
   ],
   "source": [
    "class CustomException(Exception):\n",
    "    pass\n",
    "\n",
    "try:\n",
    "    1 / 0\n",
    "except ZeroDivisionError as e:\n",
    "    # This will preserve the original stack trace.\n",
    "    raise CustomException(\"This crashed because of this and that\") from e"
   ]
  },
  {
   "cell_type": "markdown",
   "metadata": {
    "deletable": true,
    "editable": true
   },
   "source": [
    "** In a shell, the above exception does not reflect what will happen in a real program. This is what \"raise from\" would give you if used in a module: **"
   ]
  },
  {
   "cell_type": "markdown",
   "metadata": {
    "deletable": true,
    "editable": true
   },
   "source": [
    "<pre>\n",
    "Traceback (most recent call last):\n",
    "  File \"your_script.py\", line 5, in <module>\n",
    "    1 / 0\n",
    "ZeroDivisionError: division by zero\n",
    "\n",
    "The above exception was the direct cause of the following exception:\n",
    "\n",
    "Traceback (most recent call last):\n",
    "  File \"your_script.py\", line 8, in <module>\n",
    "    raise CustomException(\"This crashed because of this and that\") from e\n",
    "__main__.CustomException: This crashed because of this and that\n",
    "</pre>"
   ]
  },
  {
   "cell_type": "markdown",
   "metadata": {
    "deletable": true,
    "editable": true
   },
   "source": [
    "### Catch all unhandled exceptions right before the program crashes"
   ]
  },
  {
   "cell_type": "code",
   "execution_count": 40,
   "metadata": {
    "collapsed": false,
    "deletable": true,
    "editable": true
   },
   "outputs": [
    {
     "ename": "ZeroDivisionError",
     "evalue": "division by zero",
     "output_type": "error",
     "traceback": [
      "Traceback \u001b[0;36m(most recent call last)\u001b[0m:\n",
      "\u001b[0;36m  File \u001b[0;32m\"<ipython-input-40-86b8f9ec8425>\"\u001b[0;36m, line \u001b[0;32m34\u001b[0;36m, in \u001b[0;35m<module>\u001b[0;36m\u001b[0m\n\u001b[0;31m    1 / 0\u001b[0m\n",
      "\u001b[0;31mZeroDivisionError\u001b[0m\u001b[0;31m:\u001b[0m division by zero\n"
     ]
    }
   ],
   "source": [
    "import sys\n",
    "import logging\n",
    "\n",
    "import tempfile\n",
    "\n",
    "# You can use the standard Python logger to log exceptions.\n",
    "# This one is a dummy one that only prints on the console.\n",
    "logging.basicConfig()\n",
    "log = logging.getLogger()\n",
    "\n",
    "# Avoid erasing the previous exception handler.\n",
    "# You should ALWAYS do this.\n",
    "previous_hook = sys.excepthook\n",
    "\n",
    "def on_crash(type, value, tb):\n",
    "    \n",
    "    # Here you can do something right before the program crash.\n",
    "    # You could even log the stack trace in a file or send an email.\n",
    "    log.critical(\n",
    "         \"Arrrg\",\n",
    "         exc_info=(type, value, tb)\n",
    "    )\n",
    "    \n",
    "    if previous_hook is sys.__excepthook__:\n",
    "        # Here you can do something if the previous handler \n",
    "        # is the standard Python one.\n",
    "        print('... yes, but not a standard arg !')\n",
    "    \n",
    "    # You could reuse the previous handler if you wish:\n",
    "    # previous_hook(type, value, tb)  # The default handler displays the traceback\n",
    "\n",
    "sys.excepthook = on_crash\n",
    "\n",
    "1 / 0"
   ]
  },
  {
   "cell_type": "markdown",
   "metadata": {
    "deletable": true,
    "editable": true
   },
   "source": [
    "** In a shell, the above exception does not reflect what will happen in a real program. This is what it would give you if used in a module: **"
   ]
  },
  {
   "cell_type": "markdown",
   "metadata": {
    "deletable": true,
    "editable": true
   },
   "source": [
    "<pre>\n",
    "CRITICAL:root:Arrrggg !:\n",
    "Traceback (most recent call last):\n",
    "  File \"your_script.py\", line 37, in <module>\n",
    "    1 / 0\n",
    "... yes, but not a standard arg !\n",
    "</pre>"
   ]
  },
  {
   "cell_type": "markdown",
   "metadata": {
    "deletable": true,
    "editable": true
   },
   "source": [
    "## Typical exceptions to catch"
   ]
  },
  {
   "cell_type": "markdown",
   "metadata": {
    "deletable": true,
    "editable": true
   },
   "source": [
    "### Missing import"
   ]
  },
  {
   "cell_type": "code",
   "execution_count": 207,
   "metadata": {
    "collapsed": false,
    "deletable": true,
    "editable": true
   },
   "outputs": [
    {
     "name": "stdout",
     "output_type": "stream",
     "text": [
      "This does not exist\n"
     ]
    }
   ],
   "source": [
    "try:\n",
    "    import something\n",
    "except ImportError:\n",
    "    print(\"This does not exist\")"
   ]
  },
  {
   "cell_type": "markdown",
   "metadata": {
    "deletable": true,
    "editable": true
   },
   "source": [
    "### Converting unsafe values"
   ]
  },
  {
   "cell_type": "code",
   "execution_count": 208,
   "metadata": {
    "collapsed": false,
    "deletable": true,
    "editable": true
   },
   "outputs": [
    {
     "name": "stdout",
     "output_type": "stream",
     "text": [
      "This can't be converted\n",
      "This can't be converted\n"
     ]
    }
   ],
   "source": [
    "try:\n",
    "    a = int('a')\n",
    "except ValueError:\n",
    "    print(\"This can't be converted\")\n",
    "    \n",
    "try:\n",
    "    a = list(1)\n",
    "except TypeError:\n",
    "    print(\"This can't be converted\")"
   ]
  },
  {
   "cell_type": "markdown",
   "metadata": {
    "deletable": true,
    "editable": true
   },
   "source": [
    "### Dealing with a file"
   ]
  },
  {
   "cell_type": "code",
   "execution_count": 41,
   "metadata": {
    "collapsed": false,
    "deletable": true,
    "editable": true
   },
   "outputs": [
    {
     "name": "stdout",
     "output_type": "stream",
     "text": [
      "OMG I can't even !\n"
     ]
    }
   ],
   "source": [
    "import uuid\n",
    "\n",
    "# It is very unlikely that this file exists\n",
    "filename = str(uuid.uuid4())\n",
    "\n",
    "try:\n",
    "    with open(filename) as f:\n",
    "        print(f.read())\n",
    "        \n",
    "# The folliwing error can happen for a lot of reasons: the file does not exist, \n",
    "# it's a dir, it's corrupted, it's already in use, lack of permissions...\n",
    "# Use one of the subclasses of OSError to target a specific case:\n",
    "# - BlockingIOError\n",
    "# - ChildProcessError\n",
    "# - ConnectionError\n",
    "# - BrokenPipeError\n",
    "# - ConnectionAbortedError\n",
    "# - ConnectionRefusedError\n",
    "# - ConnectionResetError\n",
    "# - FileExistsError\n",
    "# - FileNotFoundError\n",
    "# - InterruptedError\n",
    "# - IsADirectoryError\n",
    "# - NotADirectoryError\n",
    "# - PermissionError\n",
    "# - ProcessLookupError\n",
    "# - TimeoutError\n",
    "except OSError:  \n",
    "    print(\"OMG I can't even !\")"
   ]
  },
  {
   "cell_type": "markdown",
   "metadata": {
    "deletable": true,
    "editable": true
   },
   "source": [
    "### Missing module, function, class or variable"
   ]
  },
  {
   "cell_type": "code",
   "execution_count": 212,
   "metadata": {
    "collapsed": false,
    "deletable": true,
    "editable": true
   },
   "outputs": [
    {
     "name": "stdout",
     "output_type": "stream",
     "text": [
      "This does not exist\n"
     ]
    }
   ],
   "source": [
    "try:\n",
    "    print(wololo)\n",
    "except NameError:\n",
    "    print('This does not exist')"
   ]
  },
  {
   "cell_type": "markdown",
   "metadata": {
    "deletable": true,
    "editable": true
   },
   "source": [
    "### Using the wrong index"
   ]
  },
  {
   "cell_type": "code",
   "execution_count": 42,
   "metadata": {
    "collapsed": false,
    "deletable": true,
    "editable": true
   },
   "outputs": [
    {
     "name": "stdout",
     "output_type": "stream",
     "text": [
      "Incomplete song\n"
     ]
    }
   ],
   "source": [
    "try:\n",
    "    lyrics = [\"99 beers on the wall...\"]\n",
    "    lyrics[1]\n",
    "except IndexError:\n",
    "    print('Incomplete song')"
   ]
  },
  {
   "cell_type": "markdown",
   "metadata": {
    "deletable": true,
    "editable": true
   },
   "source": [
    "## Shorcuts for exceptions handling\n",
    "\n",
    "### In file handling"
   ]
  },
  {
   "cell_type": "code",
   "execution_count": 214,
   "metadata": {
    "collapsed": true,
    "deletable": true,
    "editable": true
   },
   "outputs": [],
   "source": [
    "import tempfile\n",
    "\n",
    "# Dummy file for the example\n",
    "_, temp_filename = tempfile.mkstemp()\n",
    "\n",
    "# Replace:\n",
    "try:\n",
    "    f = open(temp_filename, 'w')\n",
    "    f.write('hello')\n",
    "finally:\n",
    "    try:\n",
    "        f.close()\n",
    "    except NameError:\n",
    "        pass\n",
    "\n",
    "# With: \n",
    "with open(temp_filename, 'w') as f:\n",
    "    f.write('hello')"
   ]
  },
  {
   "cell_type": "markdown",
   "metadata": {
    "deletable": true,
    "editable": true
   },
   "source": [
    "### In anything having a .close() method "
   ]
  },
  {
   "cell_type": "code",
   "execution_count": 170,
   "metadata": {
    "collapsed": false,
    "deletable": true,
    "editable": true
   },
   "outputs": [
    {
     "name": "stdout",
     "output_type": "stream",
     "text": [
      "Closing !\n",
      "Closing !\n"
     ]
    }
   ],
   "source": [
    "import random\n",
    "from contextlib import closing\n",
    "\n",
    "# Plenty of things can go wrong before closing: http request, db connections...\n",
    "# Let's simulate one:\n",
    "class DangerousStuffThatCloses:\n",
    "    def dangerous(self):\n",
    "        return 1 / random.randint(0, 1)\n",
    "    def close(self):\n",
    "        print('Closing !')\n",
    "\n",
    "# You then can replace:\n",
    "try:\n",
    "    stuff = DangerousStuffThatCloses()\n",
    "    stuff.dangerous()\n",
    "finally:\n",
    "    try:\n",
    "        stuff.close()\n",
    "    except NameError:\n",
    "        pass\n",
    "\n",
    "# with :\n",
    "with closing(DangerousStuffThatCloses()) as stuff:\n",
    "    stuff.dangerous()"
   ]
  },
  {
   "cell_type": "markdown",
   "metadata": {
    "deletable": true,
    "editable": true
   },
   "source": [
    "### In Dictionaries (avoid KeyError)"
   ]
  },
  {
   "cell_type": "code",
   "execution_count": 23,
   "metadata": {
    "collapsed": true,
    "deletable": true,
    "editable": true
   },
   "outputs": [],
   "source": [
    "thac0 = {\n",
    "    \"sword\": -3,\n",
    "    \"axe\": -2,\n",
    "    \"staff\": -1\n",
    "}"
   ]
  },
  {
   "cell_type": "code",
   "execution_count": 17,
   "metadata": {
    "collapsed": false,
    "deletable": true,
    "editable": true
   },
   "outputs": [
    {
     "data": {
      "text/plain": [
       "True"
      ]
     },
     "execution_count": 17,
     "metadata": {},
     "output_type": "execute_result"
    }
   ],
   "source": [
    "# Is this key in this dict ?\n",
    "\"sword\" in thac0"
   ]
  },
  {
   "cell_type": "code",
   "execution_count": 24,
   "metadata": {
    "collapsed": false,
    "deletable": true,
    "editable": true
   },
   "outputs": [
    {
     "name": "stdout",
     "output_type": "stream",
     "text": [
      "-3\n",
      "-5\n"
     ]
    }
   ],
   "source": [
    "# Get value if it exists or get default value\n",
    "print(thac0.get('sword', -5))\n",
    "print(thac0.get('bow', -5))"
   ]
  },
  {
   "cell_type": "code",
   "execution_count": 25,
   "metadata": {
    "collapsed": false,
    "deletable": true,
    "editable": true
   },
   "outputs": [
    {
     "name": "stdout",
     "output_type": "stream",
     "text": [
      "-3\n",
      "-5\n",
      "{'sword': -3, 'axe': -2, 'staff': -1, 'bow': -5}\n"
     ]
    }
   ],
   "source": [
    "# Get value if it exists or get default value\n",
    "# Create any missing key\n",
    "print(thac0.setdefault('sword', -5))\n",
    "print(thac0.setdefault('bow', -5))\n",
    "print(thac0)"
   ]
  },
  {
   "cell_type": "code",
   "execution_count": 26,
   "metadata": {
    "collapsed": false,
    "deletable": true,
    "editable": true
   },
   "outputs": [
    {
     "name": "stdout",
     "output_type": "stream",
     "text": [
      "0\n",
      "Counter({'unicorn': -1})\n"
     ]
    }
   ],
   "source": [
    "# Count stuff without dealing with missing initial values\n",
    "from collections import Counter\n",
    "hp = Counter()\n",
    "print(hp['wolf'])\n",
    "hp['unicorn'] -= 1\n",
    "print(hp)"
   ]
  },
  {
   "cell_type": "code",
   "execution_count": 27,
   "metadata": {
    "collapsed": false,
    "deletable": true,
    "editable": true
   },
   "outputs": [
    {
     "name": "stdout",
     "output_type": "stream",
     "text": [
      "defaultdict(<class 'list'>, {'classes': ['rogue']})\n"
     ]
    }
   ],
   "source": [
    "# Generate a missing key on the fly\n",
    "from collections import defaultdict\n",
    "char_sheet = defaultdict(list) # Can be any callable. here list() creates an empty list\n",
    "char_sheet['classes'].append('rogue')\n",
    "print(char_sheet)"
   ]
  },
  {
   "cell_type": "markdown",
   "metadata": {
    "deletable": true,
    "editable": true
   },
   "source": [
    "### In iterables (avoid IndexError and TypeError)"
   ]
  },
  {
   "cell_type": "code",
   "execution_count": 28,
   "metadata": {
    "collapsed": false,
    "deletable": true,
    "editable": true
   },
   "outputs": [
    {
     "name": "stdout",
     "output_type": "stream",
     "text": [
      "first element\n",
      "default value\n"
     ]
    }
   ],
   "source": [
    "# Get the first element or a default value\n",
    "print(next(iter([\"first element\"])))\n",
    "print(next(iter([]), \"default value\"))"
   ]
  },
  {
   "cell_type": "code",
   "execution_count": 3,
   "metadata": {
    "collapsed": false,
    "deletable": true,
    "editable": true
   },
   "outputs": [
    {
     "name": "stdout",
     "output_type": "stream",
     "text": [
      "[4, 9, 16]\n"
     ]
    }
   ],
   "source": [
    "# islice can slice any iterables, even the ones without a size\n",
    "from itertools import islice\n",
    "\n",
    "# You can't use [:] on a generator\n",
    "generator = (x * x for x in range(10))\n",
    "\n",
    "# Like [2: 5] but wiht islice\n",
    "print(list(islice(generator, 2, 5)))"
   ]
  },
  {
   "cell_type": "markdown",
   "metadata": {
    "deletable": true,
    "editable": true
   },
   "source": [
    "### When getting attributes (avoid AttributeError)"
   ]
  },
  {
   "cell_type": "code",
   "execution_count": 34,
   "metadata": {
    "collapsed": false,
    "deletable": true,
    "editable": true
   },
   "outputs": [
    {
     "name": "stdout",
     "output_type": "stream",
     "text": [
      "True\n"
     ]
    }
   ],
   "source": [
    "import random\n",
    "\n",
    "class Foo:\n",
    "    bar = True\n",
    "\n",
    "obj = random.choice([None, Foo()])\n",
    "print(getattr(obj, 'bar', \"Default value\"))"
   ]
  },
  {
   "cell_type": "markdown",
   "metadata": {
    "deletable": true,
    "editable": true
   },
   "source": [
    "### When encoding or decoding (avoid UnicodeXXXError)"
   ]
  },
  {
   "cell_type": "code",
   "execution_count": 1,
   "metadata": {
    "collapsed": false,
    "deletable": true,
    "editable": true
   },
   "outputs": [
    {
     "name": "stdout",
     "output_type": "stream",
     "text": [
      "b\"I'm learning french: cr?pe de fromage\"\n",
      "I'm learning french: crpe de fromage\n"
     ]
    }
   ],
   "source": [
    "import random\n",
    "charset = random.choice(['ascii', 'utf8'])\n",
    "# 'ignore' skip on errors, 'replace' put a \"?\" instead. Both work on decode() and encode()\n",
    "# and won't do anything if you use the proper character set.\n",
    "print(\"I'm learning french: crèpe de fromage\".encode(charset, errors=\"replace\"))\n",
    "print(b\"I'm learning french: cr\\xc3\\xa8pe de fromage\".decode(charset, errors=\"ignore\"))"
   ]
  },
  {
   "cell_type": "markdown",
   "metadata": {
    "deletable": true,
    "editable": true
   },
   "source": [
    "## Silencing"
   ]
  },
  {
   "cell_type": "code",
   "execution_count": 4,
   "metadata": {
    "collapsed": false,
    "deletable": true,
    "editable": true
   },
   "outputs": [
    {
     "name": "stdout",
     "output_type": "stream",
     "text": [
      "All good\n"
     ]
    },
    {
     "name": "stderr",
     "output_type": "stream",
     "text": [
      "/home/user/.local/lib/python3.6/site-packages/ipykernel/__main__.py:11: DeprecationWarning: Now you see me\n"
     ]
    }
   ],
   "source": [
    "import warnings\n",
    "from contextlib import suppress\n",
    "\n",
    "# Ignore one error\n",
    "with suppress(ZeroDivisionError):\n",
    "    1 / 0\n",
    "    \n",
    "print('All good')\n",
    "\n",
    "# Silence warnings. Exists with a context manager as well.\n",
    "warnings.warn('Now you see me', category=DeprecationWarning)\n",
    "# This functions has a lot of parameters. RTFM.\n",
    "warnings.filterwarnings(action='ignore', category=DeprecationWarning) \n",
    "warnings.warn(\"Now you don't\", category=DeprecationWarning)"
   ]
  },
  {
   "cell_type": "markdown",
   "metadata": {
    "deletable": true,
    "editable": true
   },
   "source": [
    "You can also control warnings by passing:\n",
    "\n",
    "    action:message:category:module:lineno\n",
    "    \n",
    "to either:\n",
    "\n",
    "    the \"-w\" option of the \"python\" command \n",
    "    \n",
    "or:\n",
    "\n",
    "    the \"PYTHONWARNINGS\" environment variable\n"
   ]
  },
  {
   "cell_type": "markdown",
   "metadata": {
    "deletable": true,
    "editable": true
   },
   "source": [
    "<hr>\n",
    "Copyright Encyclopython\n",
    "\n",
    "*This document is under the Creative Common Share-Alike 4 Licence: you can copy, modify and share it \n",
    "without requesting permission as long as you credit the author and use the same licence*\n",
    "\n",
    "*You can find a copy of the licence at: https://creativecommons.org/licenses/by-sa/4.0/legalcode*"
   ]
  }
 ],
 "metadata": {
  "Status": "hidden",
  "kernelspec": {
   "display_name": "Python 3",
   "language": "python",
   "name": "python3"
  },
  "language_info": {
   "codemirror_mode": {
    "name": "ipython",
    "version": 3
   },
   "file_extension": ".py",
   "mimetype": "text/x-python",
   "name": "python",
   "nbconvert_exporter": "python",
   "pygments_lexer": "ipython3",
   "version": "3.6.1"
  }
 },
 "nbformat": 4,
 "nbformat_minor": 2
}
